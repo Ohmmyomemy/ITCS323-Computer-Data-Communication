{
 "cells": [
  {
   "cell_type": "code",
   "execution_count": 1,
   "id": "1e26e6f2",
   "metadata": {},
   "outputs": [],
   "source": [
    "def hamming_gen(dataword):\n",
    "    size_dataword = len(dataword)\n",
    "    dataword = list(dataword)\n",
    "    dataword.reverse()\n",
    "    #Calculate number of parity bit 2**p > size(dataword) + p + 1\n",
    "    p = 0\n",
    "    while 2**p <  size_dataword + p + 1:\n",
    "        dataword.insert(2**p-1,'P')\n",
    "        p+=1\n",
    "#     print(dataword)\n",
    "    #Calcuate parity bit and insert into Parity position.\n",
    "    p_postion = 0\n",
    "    for i in range(len(dataword)):\n",
    "        str_check_bit_1 = [] #temporary string to store the parity for each parity bit.\n",
    "        #in every Parity position \n",
    "        if dataword[i] == 'P': \n",
    "            #start คือ bit เริ่มต้น\n",
    "            #stop คือ bit สิ้นสุด\n",
    "            start = (2**p_postion-1)\n",
    "            stop = start + 2** p_postion\n",
    "#             print('R',i+1,end=' ')\n",
    "            while start < len(dataword):    \n",
    "#                 print(f'x[{start},{stop}]',end=' ')\n",
    "                str_check_bit_1.extend(dataword[start:stop]) # extend datword with length of Parity bit Ex. P1: 1,3,5,7 P2:2,3,6,7,9,10\n",
    "                #Calculate new start stop position\n",
    "                start += 2** p_postion + i + 1\n",
    "                stop = start + 2**p_postion\n",
    "#             print('\\n')\n",
    "            #Add Pairity bit in position.\n",
    "            dataword[i] = '0' if str_check_bit_1.count('1') % 2 == 0 else '1'\n",
    "            p_postion +=1 #move to next parity bit position.\n",
    "        else:\n",
    "            pass # Baby style.\n",
    "    dataword.reverse()\n",
    "    print(''.join(dataword))"
   ]
  },
  {
   "cell_type": "code",
   "execution_count": 2,
   "id": "f691dbe2",
   "metadata": {},
   "outputs": [
    {
     "name": "stdout",
     "output_type": "stream",
     "text": [
      "100101011011\n"
     ]
    }
   ],
   "source": [
    "hamming_gen('10011010')"
   ]
  },
  {
   "cell_type": "code",
   "execution_count": 3,
   "id": "ac05c379",
   "metadata": {},
   "outputs": [
    {
     "name": "stdout",
     "output_type": "stream",
     "text": [
      "10100011011\n",
      "None\n",
      "100101011011\n",
      "None\n",
      "10011100101\n",
      "None\n",
      "10101001110\n",
      "None\n"
     ]
    }
   ],
   "source": [
    "print(hamming_gen('1010010'))\n",
    "print(hamming_gen('10011010'))\n",
    "print(hamming_gen('1001101'))\n",
    "print(hamming_gen('1011001'))"
   ]
  },
  {
   "cell_type": "code",
   "execution_count": 4,
   "id": "9c2e52aa",
   "metadata": {},
   "outputs": [
    {
     "name": "stdout",
     "output_type": "stream",
     "text": [
      "10010110001111\n",
      "None\n",
      "01001000001011\n",
      "None\n",
      "00010100000101\n",
      "None\n",
      "11011001010000\n",
      "None\n",
      "10001110111010\n",
      "None\n",
      "001100011010\n",
      "None\n"
     ]
    }
   ],
   "source": [
    "print(hamming_gen('1001010001'))\n",
    "print(hamming_gen('0100100000')) \n",
    "print(hamming_gen('0001010001'))\n",
    "print(hamming_gen('1101101010'))\n",
    "print(hamming_gen('1000110110'))\n",
    "print(hamming_gen('00110010'))"
   ]
  },
  {
   "cell_type": "code",
   "execution_count": 5,
   "id": "16aaa430",
   "metadata": {},
   "outputs": [],
   "source": [
    "def hamming_check(codeword):\n",
    "    size_codeword = len(codeword)\n",
    "    codeword = list(codeword)\n",
    "    codeword.reverse()\n",
    "    p_position = []\n",
    "    p = 0\n",
    "    #Find postion of Parity bit\n",
    "    while 2**p <  size_codeword + p:\n",
    "        p_position.append(2**p -1)\n",
    "        p+=1\n",
    "    # print(codeword)\n",
    "    p_postion = 0\n",
    "    error_bit = ''\n",
    "    for i in p_position:\n",
    "        str_check_bit_1 = []\n",
    "        start = (2**p_postion-1)\n",
    "        stop = start + 2** p_postion\n",
    "#         print('R',i+1,end=' ')\n",
    "        while start < len(codeword):    \n",
    "#             print(f'x[{start},{stop}]',end=' ')\n",
    "            str_check_bit_1.extend(codeword[start:stop])\n",
    "            start += 2** p_postion + i + 1\n",
    "            stop = start + 2**p_postion\n",
    "#         print('\\n')\n",
    "        # print(str_check_bit_1)\n",
    "        error_bit += '0' if str_check_bit_1.count('1') % 2 == 0 else '1'\n",
    "        p_postion +=1\n",
    "    return 'error bit at position: '+str('none' if '1' not in error_bit else int(error_bit[::-1],2))"
   ]
  },
  {
   "cell_type": "code",
   "execution_count": 6,
   "id": "fff2445e",
   "metadata": {},
   "outputs": [
    {
     "name": "stdout",
     "output_type": "stream",
     "text": [
      "error bit at position: none\n",
      "error bit at position: none\n",
      "error bit at position: none\n",
      "error bit at position: none\n",
      "error bit at position: none\n",
      "error bit at position: 12\n",
      "error bit at position: none\n",
      "error bit at position: none\n",
      "error bit at position: 5\n",
      "error bit at position: none\n"
     ]
    }
   ],
   "source": [
    "print(hamming_check('10100011011'))\n",
    "print(hamming_check('100101011011'))\n",
    "print(hamming_check('10011100101'))\n",
    "print(hamming_check('10101001110'))\n",
    "print(hamming_check('10001110111010'))\n",
    "print(hamming_check('101100011010')) #bit change 12\n",
    "print(hamming_check('11011001010000'))\n",
    "print(hamming_check('00010100000101'))\n",
    "print(hamming_check('10010110011111')) #bit change 5\n",
    "print(hamming_check('01001000001011'))"
   ]
  },
  {
   "cell_type": "code",
   "execution_count": null,
   "id": "b4a3769b",
   "metadata": {},
   "outputs": [],
   "source": []
  }
 ],
 "metadata": {
  "kernelspec": {
   "display_name": "Python 3",
   "language": "python",
   "name": "python3"
  },
  "language_info": {
   "codemirror_mode": {
    "name": "ipython",
    "version": 3
   },
   "file_extension": ".py",
   "mimetype": "text/x-python",
   "name": "python",
   "nbconvert_exporter": "python",
   "pygments_lexer": "ipython3",
   "version": "3.8.8"
  }
 },
 "nbformat": 4,
 "nbformat_minor": 5
}
