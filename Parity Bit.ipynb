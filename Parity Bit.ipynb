{
 "cells": [
  {
   "cell_type": "code",
   "execution_count": 1,
   "id": "958fd803",
   "metadata": {},
   "outputs": [],
   "source": [
    "import random\n",
    "import numpy as np\n",
    "import math"
   ]
  },
  {
   "cell_type": "code",
   "execution_count": 2,
   "id": "00dae23f",
   "metadata": {},
   "outputs": [],
   "source": [
    "# generate one dimession parity\n",
    "def parity_1D(dtw, pTyp):\n",
    "    cw = [] # set codeword values into String type\n",
    "    for x in dtw:\n",
    "        i = 0\n",
    "        pBit = x[i]\n",
    "        while i < len(x)-1:\n",
    "            if (pBit == x[i+1]):\n",
    "                pBit = '0'\n",
    "            else:\n",
    "                pBit = '1'\n",
    "            i += 1\n",
    "        if ((pBit == '0' and pTyp == 0) or (pBit == '1' and pTyp == 1)):\n",
    "            cw.append(x + '0')\n",
    "        else:\n",
    "            cw.append(x + '1')\n",
    "    return cw\n",
    "\n",
    "\n",
    "# fulfil some data which have size < word_size by '0' such as word_size: 5, dataword: '110', output: '00110'\n",
    "def fulfilFrame(dtw, w_size):\n",
    "    # dtw = dataword input as the array\n",
    "    output = []\n",
    "    for x in dtw:\n",
    "        if (len(x) < w_size):\n",
    "            zero = '0' #set zero into String for use zfill() in next line\n",
    "            x =  x.zfill(w_size) # zfill() use for fill zero based on line25 condition\n",
    "        output.append(x)\n",
    "    return output\n",
    "\n",
    "\n",
    "# parity generator\n",
    "def parity_gen(dataword, word_size, parity_type, arr_size):\n",
    "    \n",
    "    codeword = []\n",
    "    cw_col = '' #generate coloumn of parity\n",
    "    \n",
    "    if (parity_type == '1D-even'):\n",
    "        codeword = parity_1D(dataword, 0)\n",
    "        \n",
    "    elif (parity_type == '1D-odd'):\n",
    "        codeword = parity_1D(dataword, 1)\n",
    "        \n",
    "    elif (parity_type == '2D-even'):\n",
    "        codeword = fulfilFrame(dataword, word_size)\n",
    "        codeword = parity_1D(codeword, 0)\n",
    "        j = 0\n",
    "        while j < (word_size+1):\n",
    "            d = codeword[0]\n",
    "            pBit = d[j]\n",
    "            k = 0\n",
    "            while k < (arr_size-1):\n",
    "                dtw = codeword[k+1]\n",
    "                if (pBit == dtw[j]):\n",
    "                    pBit = '0'\n",
    "                else:\n",
    "                    pBit = '1'\n",
    "                k += 1\n",
    "                \n",
    "            if (pBit == '0'):\n",
    "                cw_col += '0' #even (adding '0')\n",
    "            else:\n",
    "                cw_col += '1' #odd (adding '1')\n",
    "                \n",
    "            j += 1\n",
    "        codeword.append(cw_col)\n",
    "    \n",
    "    elif (parity_type == '2D-odd'):\n",
    "        codeword = fulfilFrame(dataword, word_size)\n",
    "        codeword = parity_1D(codeword, 1)\n",
    "        j = 0\n",
    "        while j < (word_size+1):\n",
    "            d = codeword[0]\n",
    "            pBit = d[j]\n",
    "            k = 0\n",
    "            while k < (arr_size-1):\n",
    "                dtw = codeword[k+1]\n",
    "                if (pBit == dtw[j]):\n",
    "                    pBit = '0'\n",
    "                else:\n",
    "                    pBit = '1'\n",
    "                k += 1\n",
    "                \n",
    "            if (pBit == '0'):\n",
    "                cw_col += '1' #even (adding '1')\n",
    "            else:\n",
    "                cw_col += '0' #odd (adding '0')\n",
    "            j += 1\n",
    "        codeword.append(cw_col)\n",
    "          \n",
    "    else:\n",
    "        print('partity is undefined')\n",
    "        \n",
    "    return codeword\n",
    "\n",
    "# Parity Check\n",
    "def parity_check(codeword, parity_type, arr_size):\n",
    "    validity = 1 # PASS = 1, FAIL = 0\n",
    "    pBit = ''\n",
    "    word_size = len(codeword[0])\n",
    "    \n",
    "    # check each row\n",
    "    for x in codeword:\n",
    "        i = 0\n",
    "        pBit = x[i]\n",
    "        while i < len(x)-1:\n",
    "            if (pBit == x[i+1]):\n",
    "                pBit = '0'\n",
    "            else:\n",
    "                pBit = '1'\n",
    "            i += 1\n",
    "        if ((pBit == '0' and (parity_type == '1D-odd' or parity_type == '2D-odd')) or \n",
    "            (pBit == '1' and (parity_type == '1D-even' or parity_type == '2D-even'))):\n",
    "            return 0\n",
    "\n",
    "    # check each column        \n",
    "    if (parity_type == '2D-even' or parity_type == '2D-odd'):\n",
    "        j = 0\n",
    "        while j < word_size:\n",
    "            c = codeword[0]\n",
    "            pBit = c[j]\n",
    "            k = 0\n",
    "            while k < (arr_size-1):\n",
    "                cw = codeword[k+1]\n",
    "                if (pBit == cw[j]):\n",
    "                    pBit = '0'\n",
    "                else:\n",
    "                    pBit = '1'\n",
    "                k += 1\n",
    "            if ((pBit == '0' and parity_type == '2D-odd') or (pBit == '1' and parity_type == '2D-even')):\n",
    "                return 0\n",
    "            j += 1\n",
    "    \n",
    "    return validity"
   ]
  },
  {
   "cell_type": "code",
   "execution_count": 3,
   "id": "3dd481af",
   "metadata": {},
   "outputs": [
    {
     "data": {
      "text/plain": [
       "['101101', '00110', '10100']"
      ]
     },
     "execution_count": 3,
     "metadata": {},
     "output_type": "execute_result"
    }
   ],
   "source": [
    "dtw = np.array(['10110', '0011', '1010'])\n",
    "parity_gen(dtw, 5, '1D-even', 3)"
   ]
  },
  {
   "cell_type": "code",
   "execution_count": 9,
   "id": "eb8dc46a",
   "metadata": {},
   "outputs": [
    {
     "data": {
      "text/plain": [
       "['101110', '101011', '011101', '011000']"
      ]
     },
     "execution_count": 9,
     "metadata": {},
     "output_type": "execute_result"
    }
   ],
   "source": [
    "dtw_2d = np.array(['10111', '10101', '1110'])\n",
    "parity_gen(dtw_2d, 5, '2D-even', 3)"
   ]
  },
  {
   "cell_type": "code",
   "execution_count": 6,
   "id": "6a1efa15",
   "metadata": {},
   "outputs": [
    {
     "data": {
      "text/plain": [
       "['101100', '00111', '10101']"
      ]
     },
     "execution_count": 6,
     "metadata": {},
     "output_type": "execute_result"
    }
   ],
   "source": [
    "dtw = np.array(['10110', '0011', '1010'])\n",
    "parity_gen(dtw, 5, '1D-odd', 3)"
   ]
  },
  {
   "cell_type": "code",
   "execution_count": 10,
   "id": "ed3a288a",
   "metadata": {},
   "outputs": [
    {
     "data": {
      "text/plain": [
       "['101111', '101010', '011100', '100110']"
      ]
     },
     "execution_count": 10,
     "metadata": {},
     "output_type": "execute_result"
    }
   ],
   "source": [
    "dtw_2d = np.array(['10111', '10101', '1110'])\n",
    "parity_gen(dtw_2d, 5, '2D-odd', 3)"
   ]
  },
  {
   "cell_type": "code",
   "execution_count": 11,
   "id": "e8a56594",
   "metadata": {},
   "outputs": [
    {
     "data": {
      "text/plain": [
       "1"
      ]
     },
     "execution_count": 11,
     "metadata": {},
     "output_type": "execute_result"
    }
   ],
   "source": [
    "cw = ['101111', '101010', '011100', '100110'] # PASS = 1\n",
    "parity_check(cw,'1D-odd',4)"
   ]
  },
  {
   "cell_type": "code",
   "execution_count": 12,
   "id": "5f853695",
   "metadata": {},
   "outputs": [
    {
     "data": {
      "text/plain": [
       "0"
      ]
     },
     "execution_count": 12,
     "metadata": {},
     "output_type": "execute_result"
    }
   ],
   "source": [
    "parity_check(cw,'1D-even',4) # FAIL = 0"
   ]
  },
  {
   "cell_type": "code",
   "execution_count": null,
   "id": "a9eb9d75",
   "metadata": {},
   "outputs": [],
   "source": []
  }
 ],
 "metadata": {
  "kernelspec": {
   "display_name": "Python 3",
   "language": "python",
   "name": "python3"
  },
  "language_info": {
   "codemirror_mode": {
    "name": "ipython",
    "version": 3
   },
   "file_extension": ".py",
   "mimetype": "text/x-python",
   "name": "python",
   "nbconvert_exporter": "python",
   "pygments_lexer": "ipython3",
   "version": "3.8.8"
  }
 },
 "nbformat": 4,
 "nbformat_minor": 5
}
