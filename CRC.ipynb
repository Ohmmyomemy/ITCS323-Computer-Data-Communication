{
 "cells": [
  {
   "cell_type": "code",
   "execution_count": 1,
   "id": "e73c0d9c",
   "metadata": {},
   "outputs": [],
   "source": [
    "import random\n",
    "import numpy as np\n",
    "import math"
   ]
  },
  {
   "cell_type": "code",
   "execution_count": 2,
   "id": "eea452f1",
   "metadata": {},
   "outputs": [],
   "source": [
    "# CRC\n",
    "\n",
    "# XOR of 2 binary numbers\n",
    "def XOR(d, s):\n",
    "    i = 0\n",
    "    rmd = ''\n",
    "    while i < len(d):\n",
    "        if (d[i] == s[i]):\n",
    "            rmd = rmd + '0'\n",
    "        else:\n",
    "            rmd = rmd + '1'\n",
    "        i += 1 \n",
    "    return rmd[1:] # rmd = '0110', only need '110'\n",
    "\n",
    "\n",
    "# Modulo-2 Division\n",
    "def mod2div(dividend, divisor): # '101101100000'/'11111'  => 10110/11111 = 01001 (xor)\n",
    "    p = len(divisor)            # ' 10011'/'11111' => 01100\n",
    "    \n",
    "    # zero divisor # 01110 / 00000 = 10001 \n",
    "    zerodiv = '0'\n",
    "    zerodiv = zerodiv.zfill(p) \n",
    "    \n",
    "    sel_dividend = dividend[:(p)] # e.g. '110100'/'1001' => first sel_dividend = '1101'\n",
    "    \n",
    "    while p <= len(dividend):\n",
    "        if (sel_dividend[0] == '1'):\n",
    "            sel_dividend = XOR(sel_dividend, divisor)\n",
    "            if (p != len(dividend)): \n",
    "                sel_dividend = sel_dividend + dividend[p]\n",
    "        else:\n",
    "            sel_dividend = XOR(sel_dividend, zerodiv) \n",
    "            if (p != len(dividend)): \n",
    "                sel_dividend = sel_dividend + dividend[p]    \n",
    "        p += 1\n",
    "    \n",
    "    return sel_dividend\n",
    "\n",
    "\n",
    "# CRC Generator\n",
    "def CRC_gen(dataword, word_size, CRC_type):\n",
    "    \n",
    "    divisors = ['11111', '111010101', '10100000000000011', '11000000000000101', '1100000000101000100000001', '100000100110000010001110110110111']\n",
    "    dvs = '10101'\n",
    "    \n",
    "    extraBits = '0' \n",
    "    extraBits = extraBits.zfill(len(dvs)-1) # input dataword '10110110' => divisor '11111' dividend => '101101100000'\n",
    "    \n",
    "    dtw = dataword + extraBits\n",
    "    \n",
    "    remainder = mod2div(dtw, dvs)\n",
    "    print(remainder)\n",
    "        \n",
    "    return dataword+remainder #remainder is CRC\n",
    "\n",
    "\n",
    "# CRC Checker\n",
    "def CRC_check(codeword, CRC_type):\n",
    "    \n",
    "    # divisors = [CRC-4, CRC-8, Reversed CRC-16, CRC-16, CRC-24, CRC-32]\n",
    "    divisors = ['11111', '111010101', '10100000000000011', '11000000000000101', '1100000000101000100000001', '100000100110000010001110110110111']\n",
    "    dvs = divisors[CRC_type]\n",
    "    \n",
    "    remainder = mod2div(codeword, dvs)\n",
    "    if (int(remainder, 2) == 0): # cast binary to integer\n",
    "        return 1 # Pass (no error)\n",
    "    else:\n",
    "        return 0 # Fail (error)"
   ]
  },
  {
   "cell_type": "code",
   "execution_count": 3,
   "id": "a76f89e4",
   "metadata": {},
   "outputs": [
    {
     "name": "stdout",
     "output_type": "stream",
     "text": [
      "1111\n"
     ]
    },
    {
     "data": {
      "text/plain": [
       "'101010111111'"
      ]
     },
     "execution_count": 3,
     "metadata": {},
     "output_type": "execute_result"
    }
   ],
   "source": [
    "CRC_gen('10101011', 8, 0) # CRC-8"
   ]
  },
  {
   "cell_type": "code",
   "execution_count": 4,
   "id": "0f50614b",
   "metadata": {},
   "outputs": [
    {
     "name": "stdout",
     "output_type": "stream",
     "text": [
      "1010\n"
     ]
    },
    {
     "data": {
      "text/plain": [
       "'101000000000000111010'"
      ]
     },
     "execution_count": 4,
     "metadata": {},
     "output_type": "execute_result"
    }
   ],
   "source": [
    "CRC_gen('10100000000000011', 16, 0) # CRC-16"
   ]
  },
  {
   "cell_type": "code",
   "execution_count": 5,
   "id": "f2b5e91e",
   "metadata": {},
   "outputs": [
    {
     "data": {
      "text/plain": [
       "1"
      ]
     },
     "execution_count": 5,
     "metadata": {},
     "output_type": "execute_result"
    }
   ],
   "source": [
    "CRC_check('1001001101', 0) #PASS"
   ]
  },
  {
   "cell_type": "code",
   "execution_count": 6,
   "id": "a9d69add",
   "metadata": {},
   "outputs": [
    {
     "data": {
      "text/plain": [
       "0"
      ]
     },
     "execution_count": 6,
     "metadata": {},
     "output_type": "execute_result"
    }
   ],
   "source": [
    "CRC_check('111111111111',0) #FAIL"
   ]
  },
  {
   "cell_type": "code",
   "execution_count": null,
   "id": "8e7fa049",
   "metadata": {},
   "outputs": [],
   "source": []
  }
 ],
 "metadata": {
  "kernelspec": {
   "display_name": "Python 3",
   "language": "python",
   "name": "python3"
  },
  "language_info": {
   "codemirror_mode": {
    "name": "ipython",
    "version": 3
   },
   "file_extension": ".py",
   "mimetype": "text/x-python",
   "name": "python",
   "nbconvert_exporter": "python",
   "pygments_lexer": "ipython3",
   "version": "3.8.8"
  }
 },
 "nbformat": 4,
 "nbformat_minor": 5
}
