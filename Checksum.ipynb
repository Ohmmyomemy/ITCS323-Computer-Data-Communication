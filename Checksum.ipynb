{
 "cells": [
  {
   "cell_type": "code",
   "execution_count": 9,
   "id": "719177d9",
   "metadata": {},
   "outputs": [],
   "source": [
    "def checksum_gen(dataword, word_size, num_blocks):\n",
    "    if word_size <= 5 : return 'word size should more than 5'\n",
    "    #if dataword is not equal to word size, then add 0 at first.\n",
    "    dataword = [i.zfill(word_size) for i in dataword]\n",
    "    copy_dataword = ' '.join(dataword) # keep original for return \n",
    "    #convert binary to decimal\n",
    "    dataword = [int(dataword[i],2) for i in range(num_blocks)]\n",
    "    #find summation of dataword and covert back to binary\n",
    "    summation = bin(sum(dataword))[2:]\n",
    "    #find the extra bit \n",
    "    size_extra_bit = len(summation) - word_size #find the number of extra bit\n",
    "    extra_bit = summation[:size_extra_bit].zfill(word_size) #fill 0 until same length w/ word size\n",
    "    summation = summation[size_extra_bit:]\n",
    "#     print(summation+'\\n'+extra_bit)\n",
    "    #calculate checksum by summation+extra bit.(list of binary(charecter))\n",
    "    checksum = list(str(bin(int(summation,2)+int(extra_bit,2))[2:]).zfill(word_size))\n",
    "    #1's complement \n",
    "    checksum = [str(int(not int(i))) for i in checksum]\n",
    "    \n",
    "    return copy_dataword +' '+''.join(checksum)"
   ]
  },
  {
   "cell_type": "code",
   "execution_count": 10,
   "id": "90e59487",
   "metadata": {},
   "outputs": [
    {
     "name": "stdout",
     "output_type": "stream",
     "text": [
      "11010011 01001000 11100011\n",
      "00110100 01001000 11000001\n",
      "10101001 00111001 00011101\n",
      "word size should more than 5\n",
      "1101001 1001000 1110110 1010110\n",
      "10101001 00111001 00011101\n",
      "0011010 0101110 0110111\n",
      "0010100111111101 1101011001100111 0000010110011110 1111100111111100\n",
      "0010010101 0111010000 0110011010\n",
      "word size should more than 5\n"
     ]
    }
   ],
   "source": [
    "print(checksum_gen(['11010011','01001000'],8,2))\n",
    "print(checksum_gen(['110100','01001000'],8,2))\n",
    "print(checksum_gen(['10101001','00111001'],8,2))\n",
    "print(checksum_gen(['0001','0111'],4,2))\n",
    "print(checksum_gen(['1101001','1001000','1110110'],7,3))\n",
    "print(checksum_gen(['10101001' ,'00111001'],8,2))\n",
    "print(checksum_gen(['11010','0101110'],7,2))\n",
    "print(checksum_gen(['0010100111111101','1101011001100111','0010110011110'],16,3))\n",
    "print(checksum_gen(['010010101','0111010000'],10,2))\n",
    "print(checksum_gen(['11010'],5,1))"
   ]
  },
  {
   "cell_type": "code",
   "execution_count": 11,
   "id": "56d83be0",
   "metadata": {},
   "outputs": [],
   "source": [
    "def checksum_check(codeword, word_size, num_blocks):\n",
    "    #convert binary to decimal\n",
    "    codeword = [int(codeword[i],2) for i in range(num_blocks)]\n",
    "    #find summation of codeword and covert back to binary\n",
    "    summation = bin(sum(codeword))[2:]\n",
    "    #find the extra bit \n",
    "    size_extra_bit = len(summation) - word_size #find the number of extra bit\n",
    "    extra_bit = summation[:size_extra_bit].zfill(word_size) #fill 0 until same length w/ word size\n",
    "    summation = summation[size_extra_bit:]\n",
    "#     print(summation+'\\n'+extra_bit)\n",
    "    #calculate checksum by summation+extra bit.(list of binary(charecter))\n",
    "    checksum = list(str(bin(int(summation,2)+int(extra_bit,2))[2:]).zfill(word_size))\n",
    "    #1's complement \n",
    "    checksum = [str(int(not int(i))) for i in checksum]\n",
    "    #if there is no bit in checksum, then no error.\n",
    "    return 1 if '1' not in checksum else 0"
   ]
  },
  {
   "cell_type": "code",
   "execution_count": 12,
   "id": "c529cff8",
   "metadata": {},
   "outputs": [
    {
     "data": {
      "text/plain": [
       "1"
      ]
     },
     "execution_count": 12,
     "metadata": {},
     "output_type": "execute_result"
    }
   ],
   "source": [
    "checksum_check(['1101001','1001000','1110110','1010110'],7,4)"
   ]
  },
  {
   "cell_type": "code",
   "execution_count": 13,
   "id": "de2fee07",
   "metadata": {},
   "outputs": [
    {
     "name": "stdout",
     "output_type": "stream",
     "text": [
      "1\n",
      "1\n",
      "1\n",
      "1\n",
      "1\n",
      "1\n",
      "0\n",
      "1\n",
      "1\n"
     ]
    }
   ],
   "source": [
    "print(checksum_check(['11010011' , '01001000' , '11100011'],8,3))\n",
    "print(checksum_check(['11010000' , '01001000' , '11100110'],8,3))\n",
    "print(checksum_check(['10101001' , '00111001' , '00011101'],8,3))\n",
    "print(checksum_check(['1101001' , '1001000' , '1110110' , '1010110'],7,4))\n",
    "print(checksum_check(['10101001' , '00111001' , '00011101'],8,3))\n",
    "print(checksum_check(['1101000' , '0101110' , '1101000'],7,3))\n",
    "print(checksum_check(['0110100111111101' , '1101011001100111' , '0010110011110000' , '1101001010101010'],16,4)) #error at 1[2]\n",
    "print(checksum_check(['0100101010' , '0111010000' , '0100000101'],10,3))\n",
    "print(checksum_check(['11010' , '00101'],5,2))"
   ]
  },
  {
   "cell_type": "code",
   "execution_count": null,
   "id": "ff6d69cf",
   "metadata": {},
   "outputs": [],
   "source": []
  }
 ],
 "metadata": {
  "kernelspec": {
   "display_name": "Python 3",
   "language": "python",
   "name": "python3"
  },
  "language_info": {
   "codemirror_mode": {
    "name": "ipython",
    "version": 3
   },
   "file_extension": ".py",
   "mimetype": "text/x-python",
   "name": "python",
   "nbconvert_exporter": "python",
   "pygments_lexer": "ipython3",
   "version": "3.8.8"
  }
 },
 "nbformat": 4,
 "nbformat_minor": 5
}
